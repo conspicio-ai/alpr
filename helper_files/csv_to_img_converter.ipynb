{
 "cells": [
  {
   "cell_type": "code",
   "execution_count": 57,
   "metadata": {},
   "outputs": [],
   "source": [
    "import os\n",
    "import pandas as pd\n",
    "import numpy as np\n",
    "import cv2\n",
    "import matplotlib.pyplot as plt"
   ]
  },
  {
   "cell_type": "code",
   "execution_count": 23,
   "metadata": {},
   "outputs": [],
   "source": [
    "data = pd.read_csv(\"/home/rohit/Downloads/emnist-balanced-train.csv\") "
   ]
  },
  {
   "cell_type": "code",
   "execution_count": 24,
   "metadata": {},
   "outputs": [],
   "source": [
    "df = pd.DataFrame(data)"
   ]
  },
  {
   "cell_type": "code",
   "execution_count": 66,
   "metadata": {},
   "outputs": [],
   "source": [
    "a = df.values"
   ]
  },
  {
   "cell_type": "code",
   "execution_count": 75,
   "metadata": {},
   "outputs": [
    {
     "data": {
      "text/plain": [
       "(112799, 785)"
      ]
     },
     "execution_count": 75,
     "metadata": {},
     "output_type": "execute_result"
    }
   ],
   "source": [
    "a.shape"
   ]
  },
  {
   "cell_type": "code",
   "execution_count": 72,
   "metadata": {},
   "outputs": [],
   "source": [
    "# make directories for classes in pats folder\n",
    "path = '/home/rohit/projects/emnist_img'\n",
    "\n",
    "for i in range(47):\n",
    "    os.mkdir(os.path.join(path,str(i)))"
   ]
  },
  {
   "cell_type": "markdown",
   "metadata": {},
   "source": [
    "# Data Augmentation Code"
   ]
  },
  {
   "cell_type": "code",
   "execution_count": 73,
   "metadata": {},
   "outputs": [],
   "source": [
    "'''\n",
    "\n",
    "for i in range(a.shape[0]):\n",
    "    label = a[i,0]\n",
    "    b = a[i,1:]\n",
    "    \n",
    "    img = b.reshape((28,28))\n",
    "    cv2.imwrite(os.path.join(path, str(label),'{}.png'.format(i)),img)\n",
    "    \n",
    "    img_rotate_90_clockwise = cv2.rotate(img, cv2.ROTATE_90_CLOCKWISE)\n",
    "    cv2.imwrite(os.path.join(path, str(label),'{}_crot.png'.format(i)),img_rotate_90_clockwise)\n",
    "\n",
    "    img_rotate_90_counterclockwise = cv2.rotate(img, cv2.ROTATE_90_COUNTERCLOCKWISE)\n",
    "    cv2.imwrite(os.path.join(path, str(label),'{}_ccrot.png'.format(i)),img_rotate_90_counterclockwise)\n",
    "\n",
    "    img_rotate_180 = cv2.rotate(img, cv2.ROTATE_180)\n",
    "    cv2.imwrite(os.path.join(path, str(label),'{}_rot180.png'.format(i)),img_rotate_180)\n",
    "    \n",
    "    img_flip_ud = cv2.flip(img, 0)\n",
    "    cv2.imwrite(os.path.join(path, str(label),'{}_flipx.png'.format(i)),img_flip_ud)\n",
    "    \n",
    "    img_flip_lr = cv2.flip(img, 1)\n",
    "    cv2.imwrite(os.path.join(path, str(label),'{}_flipy.png'.format(i)),img_flip_lr)\n",
    "'''"
   ]
  },
  {
   "cell_type": "code",
   "execution_count": 74,
   "metadata": {},
   "outputs": [],
   "source": [
    "for i in range(a.shape[0]):\n",
    "    label = a[i,0]\n",
    "    b = a[i,1:]\n",
    "    \n",
    "    img = b.reshape((28,28))\n",
    "    cv2.imwrite(os.path.join(path, str(label),'{}.png'.format(i)),img)\n",
    "    \n",
    "\n",
    "    img_rotate_90_counterclockwise = cv2.rotate(img, cv2.ROTATE_90_COUNTERCLOCKWISE)    \n",
    "    img_flip_ud = cv2.flip(img_rotate_90_counterclockwise, 0)\n",
    "    \n",
    "    cv2.imwrite(os.path.join(path, str(label),'{}_flipx.png'.format(i)),img_flip_ud)\n"
   ]
  },
  {
   "cell_type": "code",
   "execution_count": null,
   "metadata": {},
   "outputs": [],
   "source": []
  }
 ],
 "metadata": {
  "kernelspec": {
   "display_name": "Python 3",
   "language": "python",
   "name": "python3"
  },
  "language_info": {
   "codemirror_mode": {
    "name": "ipython",
    "version": 3
   },
   "file_extension": ".py",
   "mimetype": "text/x-python",
   "name": "python",
   "nbconvert_exporter": "python",
   "pygments_lexer": "ipython3",
   "version": "3.7.5"
  }
 },
 "nbformat": 4,
 "nbformat_minor": 4
}
